{
 "cells": [
  {
   "cell_type": "code",
   "execution_count": 23,
   "metadata": {
    "execution": {
     "iopub.execute_input": "2025-05-24T09:29:35.026909Z",
     "iopub.status.busy": "2025-05-24T09:29:35.026589Z",
     "iopub.status.idle": "2025-05-24T09:34:38.591457Z",
     "shell.execute_reply": "2025-05-24T09:34:38.590564Z",
     "shell.execute_reply.started": "2025-05-24T09:29:35.026888Z"
    },
    "trusted": true
   },
   "outputs": [
    {
     "name": "stderr",
     "output_type": "stream",
     "text": [
      "/tmp/ipykernel_35/2698562640.py:36: FutureWarning: `torch.cuda.amp.GradScaler(args...)` is deprecated. Please use `torch.amp.GradScaler('cuda', args...)` instead.\n",
      "  scaler = GradScaler()\n",
      "Epoch 1 [Train]:   0%|          | 0/59 [00:00<?, ?it/s]/tmp/ipykernel_35/2698562640.py:70: FutureWarning: `torch.cuda.amp.autocast(args...)` is deprecated. Please use `torch.amp.autocast('cuda', args...)` instead.\n",
      "  with autocast():\n",
      "Epoch 1 [Train]: 100%|██████████| 59/59 [00:11<00:00,  5.28it/s]\n",
      "Epoch 1 [Val]:   0%|          | 0/8 [00:00<?, ?it/s]/tmp/ipykernel_35/2698562640.py:97: FutureWarning: `torch.cuda.amp.autocast(args...)` is deprecated. Please use `torch.amp.autocast('cuda', args...)` instead.\n",
      "  with autocast():\n",
      "Epoch 1 [Val]: 100%|██████████| 8/8 [00:01<00:00,  5.90it/s]\n"
     ]
    },
    {
     "name": "stdout",
     "output_type": "stream",
     "text": [
      "Epoch 1 | Train Acc: 0.3760 | Train F1: 0.3628 | Val Acc: 0.8122 | Val F1: 0.8152\n",
      "✅ Best model saved at epoch 1 with Val Acc: 0.8122\n"
     ]
    },
    {
     "name": "stderr",
     "output_type": "stream",
     "text": [
      "Epoch 2 [Train]:   0%|          | 0/59 [00:00<?, ?it/s]/tmp/ipykernel_35/2698562640.py:70: FutureWarning: `torch.cuda.amp.autocast(args...)` is deprecated. Please use `torch.amp.autocast('cuda', args...)` instead.\n",
      "  with autocast():\n",
      "Epoch 2 [Train]: 100%|██████████| 59/59 [00:11<00:00,  5.35it/s]\n",
      "Epoch 2 [Val]:   0%|          | 0/8 [00:00<?, ?it/s]/tmp/ipykernel_35/2698562640.py:97: FutureWarning: `torch.cuda.amp.autocast(args...)` is deprecated. Please use `torch.amp.autocast('cuda', args...)` instead.\n",
      "  with autocast():\n",
      "Epoch 2 [Val]: 100%|██████████| 8/8 [00:01<00:00,  5.60it/s]\n"
     ]
    },
    {
     "name": "stdout",
     "output_type": "stream",
     "text": [
      "Epoch 2 | Train Acc: 0.5624 | Train F1: 0.5599 | Val Acc: 0.8571 | Val F1: 0.8595\n",
      "✅ Best model saved at epoch 2 with Val Acc: 0.8571\n"
     ]
    },
    {
     "name": "stderr",
     "output_type": "stream",
     "text": [
      "Epoch 3 [Train]:   0%|          | 0/59 [00:00<?, ?it/s]/tmp/ipykernel_35/2698562640.py:70: FutureWarning: `torch.cuda.amp.autocast(args...)` is deprecated. Please use `torch.amp.autocast('cuda', args...)` instead.\n",
      "  with autocast():\n",
      "Epoch 3 [Train]: 100%|██████████| 59/59 [00:10<00:00,  5.61it/s]\n",
      "Epoch 3 [Val]:   0%|          | 0/8 [00:00<?, ?it/s]/tmp/ipykernel_35/2698562640.py:97: FutureWarning: `torch.cuda.amp.autocast(args...)` is deprecated. Please use `torch.amp.autocast('cuda', args...)` instead.\n",
      "  with autocast():\n",
      "Epoch 3 [Val]: 100%|██████████| 8/8 [00:01<00:00,  5.75it/s]\n"
     ]
    },
    {
     "name": "stdout",
     "output_type": "stream",
     "text": [
      "Epoch 3 | Train Acc: 0.6165 | Train F1: 0.6132 | Val Acc: 0.8449 | Val F1: 0.8440\n"
     ]
    },
    {
     "name": "stderr",
     "output_type": "stream",
     "text": [
      "Epoch 4 [Train]:   0%|          | 0/59 [00:00<?, ?it/s]/tmp/ipykernel_35/2698562640.py:70: FutureWarning: `torch.cuda.amp.autocast(args...)` is deprecated. Please use `torch.amp.autocast('cuda', args...)` instead.\n",
      "  with autocast():\n",
      "Epoch 4 [Train]: 100%|██████████| 59/59 [00:10<00:00,  5.68it/s]\n",
      "Epoch 4 [Val]:   0%|          | 0/8 [00:00<?, ?it/s]/tmp/ipykernel_35/2698562640.py:97: FutureWarning: `torch.cuda.amp.autocast(args...)` is deprecated. Please use `torch.amp.autocast('cuda', args...)` instead.\n",
      "  with autocast():\n",
      "Epoch 4 [Val]: 100%|██████████| 8/8 [00:01<00:00,  5.81it/s]\n"
     ]
    },
    {
     "name": "stdout",
     "output_type": "stream",
     "text": [
      "Epoch 4 | Train Acc: 0.6235 | Train F1: 0.6172 | Val Acc: 0.8776 | Val F1: 0.8786\n",
      "✅ Best model saved at epoch 4 with Val Acc: 0.8776\n"
     ]
    },
    {
     "name": "stderr",
     "output_type": "stream",
     "text": [
      "Epoch 5 [Train]:   0%|          | 0/59 [00:00<?, ?it/s]/tmp/ipykernel_35/2698562640.py:70: FutureWarning: `torch.cuda.amp.autocast(args...)` is deprecated. Please use `torch.amp.autocast('cuda', args...)` instead.\n",
      "  with autocast():\n",
      "Epoch 5 [Train]: 100%|██████████| 59/59 [00:10<00:00,  5.73it/s]\n",
      "Epoch 5 [Val]:   0%|          | 0/8 [00:00<?, ?it/s]/tmp/ipykernel_35/2698562640.py:97: FutureWarning: `torch.cuda.amp.autocast(args...)` is deprecated. Please use `torch.amp.autocast('cuda', args...)` instead.\n",
      "  with autocast():\n",
      "Epoch 5 [Val]: 100%|██████████| 8/8 [00:01<00:00,  6.07it/s]\n"
     ]
    },
    {
     "name": "stdout",
     "output_type": "stream",
     "text": [
      "Epoch 5 | Train Acc: 0.6749 | Train F1: 0.6709 | Val Acc: 0.8286 | Val F1: 0.8312\n"
     ]
    },
    {
     "name": "stderr",
     "output_type": "stream",
     "text": [
      "Epoch 6 [Train]:   0%|          | 0/59 [00:00<?, ?it/s]/tmp/ipykernel_35/2698562640.py:70: FutureWarning: `torch.cuda.amp.autocast(args...)` is deprecated. Please use `torch.amp.autocast('cuda', args...)` instead.\n",
      "  with autocast():\n",
      "Epoch 6 [Train]: 100%|██████████| 59/59 [00:10<00:00,  5.66it/s]\n",
      "Epoch 6 [Val]:   0%|          | 0/8 [00:00<?, ?it/s]/tmp/ipykernel_35/2698562640.py:97: FutureWarning: `torch.cuda.amp.autocast(args...)` is deprecated. Please use `torch.amp.autocast('cuda', args...)` instead.\n",
      "  with autocast():\n",
      "Epoch 6 [Val]: 100%|██████████| 8/8 [00:01<00:00,  5.83it/s]\n"
     ]
    },
    {
     "name": "stdout",
     "output_type": "stream",
     "text": [
      "Epoch 6 | Train Acc: 0.5501 | Train F1: 0.5464 | Val Acc: 0.9020 | Val F1: 0.9020\n",
      "✅ Best model saved at epoch 6 with Val Acc: 0.9020\n"
     ]
    },
    {
     "name": "stderr",
     "output_type": "stream",
     "text": [
      "Epoch 7 [Train]:   0%|          | 0/59 [00:00<?, ?it/s]/tmp/ipykernel_35/2698562640.py:70: FutureWarning: `torch.cuda.amp.autocast(args...)` is deprecated. Please use `torch.amp.autocast('cuda', args...)` instead.\n",
      "  with autocast():\n",
      "Epoch 7 [Train]: 100%|██████████| 59/59 [00:10<00:00,  5.52it/s]\n",
      "Epoch 7 [Val]:   0%|          | 0/8 [00:00<?, ?it/s]/tmp/ipykernel_35/2698562640.py:97: FutureWarning: `torch.cuda.amp.autocast(args...)` is deprecated. Please use `torch.amp.autocast('cuda', args...)` instead.\n",
      "  with autocast():\n",
      "Epoch 7 [Val]: 100%|██████████| 8/8 [00:01<00:00,  5.83it/s]\n"
     ]
    },
    {
     "name": "stdout",
     "output_type": "stream",
     "text": [
      "Epoch 7 | Train Acc: 0.6020 | Train F1: 0.5971 | Val Acc: 0.9061 | Val F1: 0.9051\n",
      "✅ Best model saved at epoch 7 with Val Acc: 0.9061\n"
     ]
    },
    {
     "name": "stderr",
     "output_type": "stream",
     "text": [
      "Epoch 8 [Train]:   0%|          | 0/59 [00:00<?, ?it/s]/tmp/ipykernel_35/2698562640.py:70: FutureWarning: `torch.cuda.amp.autocast(args...)` is deprecated. Please use `torch.amp.autocast('cuda', args...)` instead.\n",
      "  with autocast():\n",
      "Epoch 8 [Train]: 100%|██████████| 59/59 [00:10<00:00,  5.39it/s]\n",
      "Epoch 8 [Val]:   0%|          | 0/8 [00:00<?, ?it/s]/tmp/ipykernel_35/2698562640.py:97: FutureWarning: `torch.cuda.amp.autocast(args...)` is deprecated. Please use `torch.amp.autocast('cuda', args...)` instead.\n",
      "  with autocast():\n",
      "Epoch 8 [Val]: 100%|██████████| 8/8 [00:01<00:00,  5.74it/s]\n"
     ]
    },
    {
     "name": "stdout",
     "output_type": "stream",
     "text": [
      "Epoch 8 | Train Acc: 0.5881 | Train F1: 0.5853 | Val Acc: 0.8939 | Val F1: 0.8923\n"
     ]
    },
    {
     "name": "stderr",
     "output_type": "stream",
     "text": [
      "Epoch 9 [Train]:   0%|          | 0/59 [00:00<?, ?it/s]/tmp/ipykernel_35/2698562640.py:70: FutureWarning: `torch.cuda.amp.autocast(args...)` is deprecated. Please use `torch.amp.autocast('cuda', args...)` instead.\n",
      "  with autocast():\n",
      "Epoch 9 [Train]: 100%|██████████| 59/59 [00:10<00:00,  5.51it/s]\n",
      "Epoch 9 [Val]:   0%|          | 0/8 [00:00<?, ?it/s]/tmp/ipykernel_35/2698562640.py:97: FutureWarning: `torch.cuda.amp.autocast(args...)` is deprecated. Please use `torch.amp.autocast('cuda', args...)` instead.\n",
      "  with autocast():\n",
      "Epoch 9 [Val]: 100%|██████████| 8/8 [00:01<00:00,  5.68it/s]\n"
     ]
    },
    {
     "name": "stdout",
     "output_type": "stream",
     "text": [
      "Epoch 9 | Train Acc: 0.6438 | Train F1: 0.6409 | Val Acc: 0.9184 | Val F1: 0.9177\n",
      "✅ Best model saved at epoch 9 with Val Acc: 0.9184\n"
     ]
    },
    {
     "name": "stderr",
     "output_type": "stream",
     "text": [
      "Epoch 10 [Train]:   0%|          | 0/59 [00:00<?, ?it/s]/tmp/ipykernel_35/2698562640.py:70: FutureWarning: `torch.cuda.amp.autocast(args...)` is deprecated. Please use `torch.amp.autocast('cuda', args...)` instead.\n",
      "  with autocast():\n",
      "Epoch 10 [Train]: 100%|██████████| 59/59 [00:10<00:00,  5.62it/s]\n",
      "Epoch 10 [Val]:   0%|          | 0/8 [00:00<?, ?it/s]/tmp/ipykernel_35/2698562640.py:97: FutureWarning: `torch.cuda.amp.autocast(args...)` is deprecated. Please use `torch.amp.autocast('cuda', args...)` instead.\n",
      "  with autocast():\n",
      "Epoch 10 [Val]: 100%|██████████| 8/8 [00:01<00:00,  5.92it/s]\n"
     ]
    },
    {
     "name": "stdout",
     "output_type": "stream",
     "text": [
      "Epoch 10 | Train Acc: 0.6620 | Train F1: 0.6597 | Val Acc: 0.9224 | Val F1: 0.9220\n",
      "✅ Best model saved at epoch 10 with Val Acc: 0.9224\n"
     ]
    },
    {
     "name": "stderr",
     "output_type": "stream",
     "text": [
      "Epoch 11 [Train]:   0%|          | 0/59 [00:00<?, ?it/s]/tmp/ipykernel_35/2698562640.py:70: FutureWarning: `torch.cuda.amp.autocast(args...)` is deprecated. Please use `torch.amp.autocast('cuda', args...)` instead.\n",
      "  with autocast():\n",
      "Epoch 11 [Train]: 100%|██████████| 59/59 [00:10<00:00,  5.67it/s]\n",
      "Epoch 11 [Val]:   0%|          | 0/8 [00:00<?, ?it/s]/tmp/ipykernel_35/2698562640.py:97: FutureWarning: `torch.cuda.amp.autocast(args...)` is deprecated. Please use `torch.amp.autocast('cuda', args...)` instead.\n",
      "  with autocast():\n",
      "Epoch 11 [Val]: 100%|██████████| 8/8 [00:01<00:00,  5.95it/s]\n"
     ]
    },
    {
     "name": "stdout",
     "output_type": "stream",
     "text": [
      "Epoch 11 | Train Acc: 0.5763 | Train F1: 0.5749 | Val Acc: 0.8898 | Val F1: 0.8891\n"
     ]
    },
    {
     "name": "stderr",
     "output_type": "stream",
     "text": [
      "Epoch 12 [Train]:   0%|          | 0/59 [00:00<?, ?it/s]/tmp/ipykernel_35/2698562640.py:70: FutureWarning: `torch.cuda.amp.autocast(args...)` is deprecated. Please use `torch.amp.autocast('cuda', args...)` instead.\n",
      "  with autocast():\n",
      "Epoch 12 [Train]: 100%|██████████| 59/59 [00:10<00:00,  5.65it/s]\n",
      "Epoch 12 [Val]:   0%|          | 0/8 [00:00<?, ?it/s]/tmp/ipykernel_35/2698562640.py:97: FutureWarning: `torch.cuda.amp.autocast(args...)` is deprecated. Please use `torch.amp.autocast('cuda', args...)` instead.\n",
      "  with autocast():\n",
      "Epoch 12 [Val]: 100%|██████████| 8/8 [00:01<00:00,  5.53it/s]\n"
     ]
    },
    {
     "name": "stdout",
     "output_type": "stream",
     "text": [
      "Epoch 12 | Train Acc: 0.5881 | Train F1: 0.5854 | Val Acc: 0.9224 | Val F1: 0.9223\n"
     ]
    },
    {
     "name": "stderr",
     "output_type": "stream",
     "text": [
      "Epoch 13 [Train]:   0%|          | 0/59 [00:00<?, ?it/s]/tmp/ipykernel_35/2698562640.py:70: FutureWarning: `torch.cuda.amp.autocast(args...)` is deprecated. Please use `torch.amp.autocast('cuda', args...)` instead.\n",
      "  with autocast():\n",
      "Epoch 13 [Train]: 100%|██████████| 59/59 [00:10<00:00,  5.60it/s]\n",
      "Epoch 13 [Val]:   0%|          | 0/8 [00:00<?, ?it/s]/tmp/ipykernel_35/2698562640.py:97: FutureWarning: `torch.cuda.amp.autocast(args...)` is deprecated. Please use `torch.amp.autocast('cuda', args...)` instead.\n",
      "  with autocast():\n",
      "Epoch 13 [Val]: 100%|██████████| 8/8 [00:01<00:00,  6.05it/s]\n"
     ]
    },
    {
     "name": "stdout",
     "output_type": "stream",
     "text": [
      "Epoch 13 | Train Acc: 0.6079 | Train F1: 0.6070 | Val Acc: 0.9347 | Val F1: 0.9345\n",
      "✅ Best model saved at epoch 13 with Val Acc: 0.9347\n"
     ]
    },
    {
     "name": "stderr",
     "output_type": "stream",
     "text": [
      "Epoch 14 [Train]:   0%|          | 0/59 [00:00<?, ?it/s]/tmp/ipykernel_35/2698562640.py:70: FutureWarning: `torch.cuda.amp.autocast(args...)` is deprecated. Please use `torch.amp.autocast('cuda', args...)` instead.\n",
      "  with autocast():\n",
      "Epoch 14 [Train]: 100%|██████████| 59/59 [00:10<00:00,  5.57it/s]\n",
      "Epoch 14 [Val]:   0%|          | 0/8 [00:00<?, ?it/s]/tmp/ipykernel_35/2698562640.py:97: FutureWarning: `torch.cuda.amp.autocast(args...)` is deprecated. Please use `torch.amp.autocast('cuda', args...)` instead.\n",
      "  with autocast():\n",
      "Epoch 14 [Val]: 100%|██████████| 8/8 [00:01<00:00,  5.62it/s]\n"
     ]
    },
    {
     "name": "stdout",
     "output_type": "stream",
     "text": [
      "Epoch 14 | Train Acc: 0.6299 | Train F1: 0.6291 | Val Acc: 0.9224 | Val F1: 0.9217\n"
     ]
    },
    {
     "name": "stderr",
     "output_type": "stream",
     "text": [
      "Epoch 15 [Train]:   0%|          | 0/59 [00:00<?, ?it/s]/tmp/ipykernel_35/2698562640.py:70: FutureWarning: `torch.cuda.amp.autocast(args...)` is deprecated. Please use `torch.amp.autocast('cuda', args...)` instead.\n",
      "  with autocast():\n",
      "Epoch 15 [Train]: 100%|██████████| 59/59 [00:10<00:00,  5.56it/s]\n",
      "Epoch 15 [Val]:   0%|          | 0/8 [00:00<?, ?it/s]/tmp/ipykernel_35/2698562640.py:97: FutureWarning: `torch.cuda.amp.autocast(args...)` is deprecated. Please use `torch.amp.autocast('cuda', args...)` instead.\n",
      "  with autocast():\n",
      "Epoch 15 [Val]: 100%|██████████| 8/8 [00:01<00:00,  6.06it/s]\n"
     ]
    },
    {
     "name": "stdout",
     "output_type": "stream",
     "text": [
      "Epoch 15 | Train Acc: 0.5404 | Train F1: 0.5389 | Val Acc: 0.9510 | Val F1: 0.9514\n",
      "✅ Best model saved at epoch 15 with Val Acc: 0.9510\n"
     ]
    },
    {
     "name": "stderr",
     "output_type": "stream",
     "text": [
      "Epoch 16 [Train]:   0%|          | 0/59 [00:00<?, ?it/s]/tmp/ipykernel_35/2698562640.py:70: FutureWarning: `torch.cuda.amp.autocast(args...)` is deprecated. Please use `torch.amp.autocast('cuda', args...)` instead.\n",
      "  with autocast():\n",
      "Epoch 16 [Train]: 100%|██████████| 59/59 [00:10<00:00,  5.55it/s]\n",
      "Epoch 16 [Val]:   0%|          | 0/8 [00:00<?, ?it/s]/tmp/ipykernel_35/2698562640.py:97: FutureWarning: `torch.cuda.amp.autocast(args...)` is deprecated. Please use `torch.amp.autocast('cuda', args...)` instead.\n",
      "  with autocast():\n",
      "Epoch 16 [Val]: 100%|██████████| 8/8 [00:01<00:00,  5.66it/s]\n"
     ]
    },
    {
     "name": "stdout",
     "output_type": "stream",
     "text": [
      "Epoch 16 | Train Acc: 0.6251 | Train F1: 0.6240 | Val Acc: 0.9306 | Val F1: 0.9306\n"
     ]
    },
    {
     "name": "stderr",
     "output_type": "stream",
     "text": [
      "Epoch 17 [Train]:   0%|          | 0/59 [00:00<?, ?it/s]/tmp/ipykernel_35/2698562640.py:70: FutureWarning: `torch.cuda.amp.autocast(args...)` is deprecated. Please use `torch.amp.autocast('cuda', args...)` instead.\n",
      "  with autocast():\n",
      "Epoch 17 [Train]: 100%|██████████| 59/59 [00:10<00:00,  5.57it/s]\n",
      "Epoch 17 [Val]:   0%|          | 0/8 [00:00<?, ?it/s]/tmp/ipykernel_35/2698562640.py:97: FutureWarning: `torch.cuda.amp.autocast(args...)` is deprecated. Please use `torch.amp.autocast('cuda', args...)` instead.\n",
      "  with autocast():\n",
      "Epoch 17 [Val]: 100%|██████████| 8/8 [00:01<00:00,  5.62it/s]\n"
     ]
    },
    {
     "name": "stdout",
     "output_type": "stream",
     "text": [
      "Epoch 17 | Train Acc: 0.6352 | Train F1: 0.6350 | Val Acc: 0.9673 | Val F1: 0.9674\n",
      "✅ Best model saved at epoch 17 with Val Acc: 0.9673\n"
     ]
    },
    {
     "name": "stderr",
     "output_type": "stream",
     "text": [
      "Epoch 18 [Train]:   0%|          | 0/59 [00:00<?, ?it/s]/tmp/ipykernel_35/2698562640.py:70: FutureWarning: `torch.cuda.amp.autocast(args...)` is deprecated. Please use `torch.amp.autocast('cuda', args...)` instead.\n",
      "  with autocast():\n",
      "Epoch 18 [Train]: 100%|██████████| 59/59 [00:10<00:00,  5.62it/s]\n",
      "Epoch 18 [Val]:   0%|          | 0/8 [00:00<?, ?it/s]/tmp/ipykernel_35/2698562640.py:97: FutureWarning: `torch.cuda.amp.autocast(args...)` is deprecated. Please use `torch.amp.autocast('cuda', args...)` instead.\n",
      "  with autocast():\n",
      "Epoch 18 [Val]: 100%|██████████| 8/8 [00:01<00:00,  5.85it/s]\n"
     ]
    },
    {
     "name": "stdout",
     "output_type": "stream",
     "text": [
      "Epoch 18 | Train Acc: 0.6197 | Train F1: 0.6176 | Val Acc: 0.9551 | Val F1: 0.9552\n"
     ]
    },
    {
     "name": "stderr",
     "output_type": "stream",
     "text": [
      "Epoch 19 [Train]:   0%|          | 0/59 [00:00<?, ?it/s]/tmp/ipykernel_35/2698562640.py:70: FutureWarning: `torch.cuda.amp.autocast(args...)` is deprecated. Please use `torch.amp.autocast('cuda', args...)` instead.\n",
      "  with autocast():\n",
      "Epoch 19 [Train]: 100%|██████████| 59/59 [00:10<00:00,  5.66it/s]\n",
      "Epoch 19 [Val]:   0%|          | 0/8 [00:00<?, ?it/s]/tmp/ipykernel_35/2698562640.py:97: FutureWarning: `torch.cuda.amp.autocast(args...)` is deprecated. Please use `torch.amp.autocast('cuda', args...)` instead.\n",
      "  with autocast():\n",
      "Epoch 19 [Val]: 100%|██████████| 8/8 [00:01<00:00,  6.09it/s]\n"
     ]
    },
    {
     "name": "stdout",
     "output_type": "stream",
     "text": [
      "Epoch 19 | Train Acc: 0.5972 | Train F1: 0.5957 | Val Acc: 0.9224 | Val F1: 0.9215\n"
     ]
    },
    {
     "name": "stderr",
     "output_type": "stream",
     "text": [
      "Epoch 20 [Train]:   0%|          | 0/59 [00:00<?, ?it/s]/tmp/ipykernel_35/2698562640.py:70: FutureWarning: `torch.cuda.amp.autocast(args...)` is deprecated. Please use `torch.amp.autocast('cuda', args...)` instead.\n",
      "  with autocast():\n",
      "Epoch 20 [Train]: 100%|██████████| 59/59 [00:10<00:00,  5.60it/s]\n",
      "Epoch 20 [Val]:   0%|          | 0/8 [00:00<?, ?it/s]/tmp/ipykernel_35/2698562640.py:97: FutureWarning: `torch.cuda.amp.autocast(args...)` is deprecated. Please use `torch.amp.autocast('cuda', args...)` instead.\n",
      "  with autocast():\n",
      "Epoch 20 [Val]: 100%|██████████| 8/8 [00:01<00:00,  5.93it/s]\n"
     ]
    },
    {
     "name": "stdout",
     "output_type": "stream",
     "text": [
      "Epoch 20 | Train Acc: 0.6476 | Train F1: 0.6470 | Val Acc: 0.9469 | Val F1: 0.9467\n"
     ]
    },
    {
     "name": "stderr",
     "output_type": "stream",
     "text": [
      "Epoch 21 [Train]:   0%|          | 0/59 [00:00<?, ?it/s]/tmp/ipykernel_35/2698562640.py:70: FutureWarning: `torch.cuda.amp.autocast(args...)` is deprecated. Please use `torch.amp.autocast('cuda', args...)` instead.\n",
      "  with autocast():\n",
      "Epoch 21 [Train]: 100%|██████████| 59/59 [00:10<00:00,  5.58it/s]\n",
      "Epoch 21 [Val]:   0%|          | 0/8 [00:00<?, ?it/s]/tmp/ipykernel_35/2698562640.py:97: FutureWarning: `torch.cuda.amp.autocast(args...)` is deprecated. Please use `torch.amp.autocast('cuda', args...)` instead.\n",
      "  with autocast():\n",
      "Epoch 21 [Val]: 100%|██████████| 8/8 [00:01<00:00,  5.67it/s]\n"
     ]
    },
    {
     "name": "stdout",
     "output_type": "stream",
     "text": [
      "Epoch 21 | Train Acc: 0.6610 | Train F1: 0.6597 | Val Acc: 0.9755 | Val F1: 0.9756\n",
      "✅ Best model saved at epoch 21 with Val Acc: 0.9755\n"
     ]
    },
    {
     "name": "stderr",
     "output_type": "stream",
     "text": [
      "Epoch 22 [Train]:   0%|          | 0/59 [00:00<?, ?it/s]/tmp/ipykernel_35/2698562640.py:70: FutureWarning: `torch.cuda.amp.autocast(args...)` is deprecated. Please use `torch.amp.autocast('cuda', args...)` instead.\n",
      "  with autocast():\n",
      "Epoch 22 [Train]: 100%|██████████| 59/59 [00:10<00:00,  5.54it/s]\n",
      "Epoch 22 [Val]:   0%|          | 0/8 [00:00<?, ?it/s]/tmp/ipykernel_35/2698562640.py:97: FutureWarning: `torch.cuda.amp.autocast(args...)` is deprecated. Please use `torch.amp.autocast('cuda', args...)` instead.\n",
      "  with autocast():\n",
      "Epoch 22 [Val]: 100%|██████████| 8/8 [00:01<00:00,  5.45it/s]\n"
     ]
    },
    {
     "name": "stdout",
     "output_type": "stream",
     "text": [
      "Epoch 22 | Train Acc: 0.6449 | Train F1: 0.6433 | Val Acc: 0.9755 | Val F1: 0.9756\n"
     ]
    },
    {
     "name": "stderr",
     "output_type": "stream",
     "text": [
      "Epoch 23 [Train]:   0%|          | 0/59 [00:00<?, ?it/s]/tmp/ipykernel_35/2698562640.py:70: FutureWarning: `torch.cuda.amp.autocast(args...)` is deprecated. Please use `torch.amp.autocast('cuda', args...)` instead.\n",
      "  with autocast():\n",
      "Epoch 23 [Train]: 100%|██████████| 59/59 [00:10<00:00,  5.59it/s]\n",
      "Epoch 23 [Val]:   0%|          | 0/8 [00:00<?, ?it/s]/tmp/ipykernel_35/2698562640.py:97: FutureWarning: `torch.cuda.amp.autocast(args...)` is deprecated. Please use `torch.amp.autocast('cuda', args...)` instead.\n",
      "  with autocast():\n",
      "Epoch 23 [Val]: 100%|██████████| 8/8 [00:01<00:00,  5.88it/s]\n"
     ]
    },
    {
     "name": "stdout",
     "output_type": "stream",
     "text": [
      "Epoch 23 | Train Acc: 0.6299 | Train F1: 0.6284 | Val Acc: 0.9755 | Val F1: 0.9756\n"
     ]
    },
    {
     "name": "stderr",
     "output_type": "stream",
     "text": [
      "Epoch 24 [Train]:   0%|          | 0/59 [00:00<?, ?it/s]/tmp/ipykernel_35/2698562640.py:70: FutureWarning: `torch.cuda.amp.autocast(args...)` is deprecated. Please use `torch.amp.autocast('cuda', args...)` instead.\n",
      "  with autocast():\n",
      "Epoch 24 [Train]: 100%|██████████| 59/59 [00:10<00:00,  5.59it/s]\n",
      "Epoch 24 [Val]:   0%|          | 0/8 [00:00<?, ?it/s]/tmp/ipykernel_35/2698562640.py:97: FutureWarning: `torch.cuda.amp.autocast(args...)` is deprecated. Please use `torch.amp.autocast('cuda', args...)` instead.\n",
      "  with autocast():\n",
      "Epoch 24 [Val]: 100%|██████████| 8/8 [00:01<00:00,  5.78it/s]\n"
     ]
    },
    {
     "name": "stdout",
     "output_type": "stream",
     "text": [
      "Epoch 24 | Train Acc: 0.6545 | Train F1: 0.6532 | Val Acc: 0.9347 | Val F1: 0.9343\n"
     ]
    },
    {
     "name": "stderr",
     "output_type": "stream",
     "text": [
      "Epoch 25 [Train]:   0%|          | 0/59 [00:00<?, ?it/s]/tmp/ipykernel_35/2698562640.py:70: FutureWarning: `torch.cuda.amp.autocast(args...)` is deprecated. Please use `torch.amp.autocast('cuda', args...)` instead.\n",
      "  with autocast():\n",
      "Epoch 25 [Train]: 100%|██████████| 59/59 [00:10<00:00,  5.61it/s]\n",
      "Epoch 25 [Val]:   0%|          | 0/8 [00:00<?, ?it/s]/tmp/ipykernel_35/2698562640.py:97: FutureWarning: `torch.cuda.amp.autocast(args...)` is deprecated. Please use `torch.amp.autocast('cuda', args...)` instead.\n",
      "  with autocast():\n",
      "Epoch 25 [Val]: 100%|██████████| 8/8 [00:01<00:00,  5.90it/s]\n"
     ]
    },
    {
     "name": "stdout",
     "output_type": "stream",
     "text": [
      "Epoch 25 | Train Acc: 0.6508 | Train F1: 0.6505 | Val Acc: 0.9796 | Val F1: 0.9797\n",
      "✅ Best model saved at epoch 25 with Val Acc: 0.9796\n",
      "✅ Training complete. Best Val Accuracy: 0.9796\n"
     ]
    }
   ],
   "source": [
    "import torch\n",
    "import torch.nn as nn\n",
    "from torch.cuda.amp import autocast, GradScaler\n",
    "import numpy as np\n",
    "import pandas as pd\n",
    "from sklearn.utils.class_weight import compute_class_weight\n",
    "from sklearn.metrics import f1_score\n",
    "import timm\n",
    "from tqdm import tqdm\n",
    "\n",
    "# --- Config ---\n",
    "IMG_SIZE = 224\n",
    "BATCH_SIZE = 128\n",
    "EPOCHS = 25\n",
    "LEARNING_RATE = 3e-4\n",
    "NUM_CLASSES = 4\n",
    "DEVICE = torch.device(\"cuda\" if torch.cuda.is_available() else \"cpu\")\n",
    "SAVE_PATH = \"best_convnext_model.pth\"\n",
    "PATIENCE = 7\n",
    "\n",
    "# Label mapping\n",
    "label2idx = {'Alluvial soil': 0, 'Black Soil': 1, 'Clay soil': 2, 'Red soil': 3}\n",
    "\n",
    "# --- Model ---\n",
    "model = timm.create_model('convnext_tiny', pretrained=True, num_classes=NUM_CLASSES, drop_rate=0.4)\n",
    "model = model.to(DEVICE)\n",
    "\n",
    "# --- Class Weights ---\n",
    "class_weights = compute_class_weight(class_weight='balanced', classes=np.unique(df.soil_type), y=df.soil_type)\n",
    "weights = torch.tensor([class_weights[label2idx[k]] for k in label2idx], dtype=torch.float32).to(DEVICE)\n",
    "\n",
    "# --- Loss, Optimizer, Scheduler ---\n",
    "criterion = nn.CrossEntropyLoss(weight=weights, label_smoothing=0.1)\n",
    "optimizer = torch.optim.AdamW(model.parameters(), lr=LEARNING_RATE, weight_decay=1e-4)\n",
    "scheduler = torch.optim.lr_scheduler.StepLR(optimizer, step_size=10, gamma=0.5)\n",
    "scaler = GradScaler()\n",
    "\n",
    "# --- Optional: MixUp Function ---\n",
    "def mixup_data(x, y, alpha=1.0):\n",
    "    '''Returns mixed inputs, pairs of targets, and lambda'''\n",
    "    if alpha > 0:\n",
    "        lam = np.random.beta(alpha, alpha)\n",
    "    else:\n",
    "        lam = 1\n",
    "    batch_size = x.size()[0]\n",
    "    index = torch.randperm(batch_size).to(DEVICE)\n",
    "    mixed_x = lam * x + (1 - lam) * x[index, :]\n",
    "    y_a, y_b = y, y[index]\n",
    "    return mixed_x, y_a, y_b, lam\n",
    "\n",
    "def mixup_criterion(criterion, pred, y_a, y_b, lam):\n",
    "    return lam * criterion(pred, y_a) + (1 - lam) * criterion(pred, y_b)\n",
    "\n",
    "# --- Training Loop ---\n",
    "best_val_acc = 0\n",
    "early_stop_counter = 0\n",
    "\n",
    "for epoch in range(1, EPOCHS + 1):\n",
    "    model.train()\n",
    "    train_loss, train_correct = 0, 0\n",
    "    train_preds, train_labels = [], []\n",
    "\n",
    "    for images, labels in tqdm(train_loader, desc=f\"Epoch {epoch} [Train]\"):\n",
    "        images, labels = images.to(DEVICE), labels.to(DEVICE)\n",
    "        optimizer.zero_grad()\n",
    "\n",
    "        # Apply MixUp\n",
    "        images, targets_a, targets_b, lam = mixup_data(images, labels, alpha=0.4)\n",
    "\n",
    "        with autocast():\n",
    "            outputs = model(images)\n",
    "            loss = mixup_criterion(criterion, outputs, targets_a, targets_b, lam)\n",
    "\n",
    "        scaler.scale(loss).backward()\n",
    "        scaler.step(optimizer)\n",
    "        scaler.update()\n",
    "\n",
    "        preds = outputs.argmax(1)\n",
    "        # For accuracy, use targets_a\n",
    "        train_loss += loss.item() * images.size(0)\n",
    "        train_correct += (preds == targets_a).sum().item()\n",
    "        train_preds.extend(preds.cpu().numpy())\n",
    "        train_labels.extend(targets_a.cpu().numpy())\n",
    "\n",
    "    train_acc = train_correct / len(train_loader.dataset)\n",
    "    train_f1 = f1_score(train_labels, train_preds, average='weighted')\n",
    "\n",
    "    # --- Validation ---\n",
    "    model.eval()\n",
    "    val_loss, val_correct = 0, 0\n",
    "    val_preds, val_labels = [], []\n",
    "\n",
    "    with torch.no_grad():\n",
    "        for images, labels in tqdm(val_loader, desc=f\"Epoch {epoch} [Val]\"):\n",
    "            images, labels = images.to(DEVICE), labels.to(DEVICE)\n",
    "\n",
    "            with autocast():\n",
    "                outputs = model(images)\n",
    "                loss = criterion(outputs, labels)\n",
    "\n",
    "            preds = outputs.argmax(1)\n",
    "            val_loss += loss.item() * images.size(0)\n",
    "            val_correct += (preds == labels).sum().item()\n",
    "            val_preds.extend(preds.cpu().numpy())\n",
    "            val_labels.extend(labels.cpu().numpy())\n",
    "\n",
    "    val_acc = val_correct / len(val_loader.dataset)\n",
    "    val_f1 = f1_score(val_labels, val_preds, average='weighted')\n",
    "\n",
    "    print(f\"Epoch {epoch} | Train Acc: {train_acc:.4f} | Train F1: {train_f1:.4f} | Val Acc: {val_acc:.4f} | Val F1: {val_f1:.4f}\")\n",
    "\n",
    "    scheduler.step()\n",
    "\n",
    "    # Save best model\n",
    "    if val_acc > best_val_acc:\n",
    "        best_val_acc = val_acc\n",
    "        early_stop_counter = 0\n",
    "        torch.save(model.state_dict(), SAVE_PATH)\n",
    "        print(f\"✅ Best model saved at epoch {epoch} with Val Acc: {val_acc:.4f}\")\n",
    "    else:\n",
    "        early_stop_counter += 1\n",
    "        if early_stop_counter >= PATIENCE:\n",
    "            print(\"⛔ Early stopping triggered.\")\n",
    "            break\n",
    "\n",
    "print(f\"✅ Training complete. Best Val Accuracy: {best_val_acc:.4f}\")\n"
   ]
  }
 ],
 "metadata": {
  "kaggle": {
   "accelerator": "none",
   "dataSources": [
    {
     "databundleVersionId": 12375409,
     "sourceId": 102672,
     "sourceType": "competition"
    }
   ],
   "dockerImageVersionId": 31041,
   "isGpuEnabled": false,
   "isInternetEnabled": true,
   "language": "python",
   "sourceType": "notebook"
  },
  "kernelspec": {
   "display_name": "Python 3",
   "language": "python",
   "name": "python3"
  },
  "language_info": {
   "codemirror_mode": {
    "name": "ipython",
    "version": 3
   },
   "file_extension": ".py",
   "mimetype": "text/x-python",
   "name": "python",
   "nbconvert_exporter": "python",
   "pygments_lexer": "ipython3",
   "version": "3.11.11"
  }
 },
 "nbformat": 4,
 "nbformat_minor": 4
}
