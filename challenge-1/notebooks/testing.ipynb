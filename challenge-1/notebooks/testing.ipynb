{
 "cells": [
  {
   "cell_type": "code",
   "execution_count": 24,
   "metadata": {
    "execution": {
     "iopub.execute_input": "2025-05-24T09:37:31.780246Z",
     "iopub.status.busy": "2025-05-24T09:37:31.779295Z",
     "iopub.status.idle": "2025-05-24T09:37:43.635262Z",
     "shell.execute_reply": "2025-05-24T09:37:43.634130Z",
     "shell.execute_reply.started": "2025-05-24T09:37:31.780200Z"
    },
    "trusted": true
   },
   "outputs": [
    {
     "name": "stdout",
     "output_type": "stream",
     "text": [
      "✅ Model loaded successfully.\n"
     ]
    },
    {
     "name": "stderr",
     "output_type": "stream",
     "text": [
      "🔍 Predicting with TTA: 100%|██████████| 341/341 [00:11<00:00, 30.44it/s]"
     ]
    },
    {
     "name": "stdout",
     "output_type": "stream",
     "text": [
      "\n",
      "✅ TTA-enhanced predictions saved to: submission_tta_convnext3.csv\n"
     ]
    },
    {
     "name": "stderr",
     "output_type": "stream",
     "text": [
      "\n"
     ]
    }
   ],
   "source": [
    "import os\n",
    "import torch\n",
    "import timm\n",
    "import numpy as np\n",
    "import pandas as pd\n",
    "from PIL import Image, UnidentifiedImageError\n",
    "from torchvision import transforms\n",
    "from tqdm import tqdm\n",
    "\n",
    "# --- Config ---\n",
    "model_path = '/kaggle/working/best_convnext_model.pth'  # Updated model path\n",
    "test_folder = '/kaggle/input/soil-classification/soil_classification-2025/test'\n",
    "output_csv = 'submission_tta_convnext3.csv'\n",
    "img_size = 224\n",
    "class_names = ['Alluvial soil', 'Black Soil', 'Clay soil', 'Red soil']\n",
    "device = torch.device(\"cuda\" if torch.cuda.is_available() else \"cpu\")\n",
    "\n",
    "# --- Base Transform ---\n",
    "base_transform = transforms.Compose([\n",
    "    transforms.Resize((img_size, img_size)),\n",
    "    transforms.ToTensor(),\n",
    "    transforms.Normalize(mean=[0.485, 0.456, 0.406],\n",
    "                         std=[0.229, 0.224, 0.225]),\n",
    "])\n",
    "\n",
    "# --- TTA Transforms ---\n",
    "tta_transforms = [\n",
    "    base_transform,  # original\n",
    "    transforms.Compose([\n",
    "        transforms.Resize((img_size, img_size)),\n",
    "        transforms.RandomHorizontalFlip(p=1.0),\n",
    "        transforms.ToTensor(),\n",
    "        transforms.Normalize(mean=[0.485, 0.456, 0.406],\n",
    "                             std=[0.229, 0.224, 0.225]),\n",
    "    ]),\n",
    "    transforms.Compose([\n",
    "        transforms.Resize((img_size, img_size)),\n",
    "        transforms.RandomVerticalFlip(p=1.0),\n",
    "        transforms.ToTensor(),\n",
    "        transforms.Normalize(mean=[0.485, 0.456, 0.406],\n",
    "                             std=[0.229, 0.224, 0.225]),\n",
    "    ]),\n",
    "]\n",
    "\n",
    "# --- Load Model (ConvNeXt Tiny) ---\n",
    "model = timm.create_model('convnext_tiny', pretrained=False, num_classes=len(class_names))\n",
    "try:\n",
    "    model.load_state_dict(torch.load(model_path, map_location=device))\n",
    "    print(\"✅ Model loaded successfully.\")\n",
    "except Exception as e:\n",
    "    raise RuntimeError(f\"❌ Failed to load model from {model_path}: {e}\")\n",
    "\n",
    "model.to(device)\n",
    "model.eval()\n",
    "\n",
    "# --- Prediction with TTA ---\n",
    "results = []\n",
    "valid_extensions = ('.jpg', '.jpeg', '.png', '.webp', '.gif')\n",
    "\n",
    "for fname in tqdm(sorted(os.listdir(test_folder)), desc=\"🔍 Predicting with TTA\"):\n",
    "    if not fname.lower().endswith(valid_extensions):\n",
    "        continue\n",
    "    try:\n",
    "        path = os.path.join(test_folder, fname)\n",
    "        image = Image.open(path).convert('RGB')\n",
    "\n",
    "        # TTA inference\n",
    "        predictions = []\n",
    "        for tta in tta_transforms:\n",
    "            img_tensor = tta(image).unsqueeze(0).to(device)\n",
    "            with torch.no_grad():\n",
    "                output = model(img_tensor)\n",
    "                predictions.append(torch.softmax(output, dim=1))\n",
    "\n",
    "        avg_prediction = torch.mean(torch.stack(predictions), dim=0)\n",
    "        pred_class = torch.argmax(avg_prediction, dim=1).item()\n",
    "\n",
    "        results.append([fname, class_names[pred_class]])\n",
    "\n",
    "    except UnidentifiedImageError:\n",
    "        print(f\"⚠️ Skipped unreadable image: {fname}\")\n",
    "    except Exception as e:\n",
    "        print(f\"❌ Error processing {fname}: {e}\")\n",
    "\n",
    "# --- Save Submission ---\n",
    "df1 = pd.DataFrame(results, columns=['image_id', 'soil_type'])\n",
    "df1.to_csv(output_csv, index=False)\n",
    "print(f\"\\n✅ TTA-enhanced predictions saved to: {output_csv}\")\n"
   ]
  }
 ],
 "metadata": {
  "kaggle": {
   "accelerator": "none",
   "dataSources": [
    {
     "databundleVersionId": 12375409,
     "sourceId": 102672,
     "sourceType": "competition"
    }
   ],
   "dockerImageVersionId": 31041,
   "isGpuEnabled": false,
   "isInternetEnabled": true,
   "language": "python",
   "sourceType": "notebook"
  },
  "kernelspec": {
   "display_name": "Python 3",
   "language": "python",
   "name": "python3"
  },
  "language_info": {
   "codemirror_mode": {
    "name": "ipython",
    "version": 3
   },
   "file_extension": ".py",
   "mimetype": "text/x-python",
   "name": "python",
   "nbconvert_exporter": "python",
   "pygments_lexer": "ipython3",
   "version": "3.11.11"
  }
 },
 "nbformat": 4,
 "nbformat_minor": 4
}
