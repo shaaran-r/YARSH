{
 "cells": [
  {
   "cell_type": "code",
   "execution_count": 8,
   "metadata": {
    "execution": {
     "iopub.execute_input": "2025-05-22T18:15:40.910603Z",
     "iopub.status.busy": "2025-05-22T18:15:40.910329Z",
     "iopub.status.idle": "2025-05-22T18:15:56.077325Z",
     "shell.execute_reply": "2025-05-22T18:15:56.076528Z",
     "shell.execute_reply.started": "2025-05-22T18:15:40.910584Z"
    },
    "trusted": true
   },
   "outputs": [
    {
     "name": "stderr",
     "output_type": "stream",
     "text": [
      "Predicting: 100%|██████████| 31/31 [00:13<00:00,  2.36it/s]"
     ]
    },
    {
     "name": "stdout",
     "output_type": "stream",
     "text": [
      "Saved predictions to submission.csv\n"
     ]
    },
    {
     "name": "stderr",
     "output_type": "stream",
     "text": [
      "\n"
     ]
    }
   ],
   "source": [
    "import os\n",
    "import torch\n",
    "import pandas as pd\n",
    "from PIL import Image\n",
    "from torchvision import transforms\n",
    "from timm import create_model\n",
    "from torch.utils.data import Dataset, DataLoader\n",
    "from tqdm import tqdm\n",
    "\n",
    "# Configs\n",
    "TEST_IMG_DIR = \"/kaggle/input/soil-classification-part-2/soil_competition-2025/test\"\n",
    "MODEL_PATH = \"/kaggle/working/convnext_soil_classifier.pth\"\n",
    "BATCH_SIZE = 32\n",
    "IMG_SIZE = 224\n",
    "DEVICE = torch.device(\"cuda\" if torch.cuda.is_available() else \"cpu\")\n",
    "\n",
    "# Transforms (same as validation)\n",
    "test_transform = transforms.Compose([\n",
    "    transforms.Resize((IMG_SIZE, IMG_SIZE)),\n",
    "    transforms.ToTensor(),\n",
    "    transforms.Normalize([0.5]*3, [0.5]*3)\n",
    "])\n",
    "\n",
    "# Dataset for test\n",
    "class TestDataset(Dataset):\n",
    "    def __init__(self, img_dir, transform):\n",
    "        self.img_dir = img_dir\n",
    "        self.transform = transform\n",
    "        self.image_ids = sorted(os.listdir(img_dir))\n",
    "\n",
    "    def __len__(self): return len(self.image_ids)\n",
    "\n",
    "    def __getitem__(self, idx):\n",
    "        img_name = self.image_ids[idx]\n",
    "        img_path = os.path.join(self.img_dir, img_name)\n",
    "        image = Image.open(img_path).convert(\"RGB\")\n",
    "        image = self.transform(image)\n",
    "        return image, img_name\n",
    "\n",
    "# Load test data\n",
    "test_dataset = TestDataset(TEST_IMG_DIR, test_transform)\n",
    "test_loader = DataLoader(test_dataset, batch_size=BATCH_SIZE, shuffle=False)\n",
    "\n",
    "# Load model\n",
    "model = create_model(\"convnext_base\", pretrained=False, num_classes=1)\n",
    "model.load_state_dict(torch.load(MODEL_PATH, map_location=DEVICE))\n",
    "model.to(DEVICE)\n",
    "model.eval()\n",
    "\n",
    "# Predict\n",
    "results = []\n",
    "with torch.no_grad():\n",
    "    for images, filenames in tqdm(test_loader, desc=\"Predicting\"):\n",
    "        images = images.to(DEVICE)\n",
    "        outputs = torch.sigmoid(model(images)).squeeze(1)\n",
    "        preds = (outputs > 0.5).long().cpu().numpy()\n",
    "        results.extend(zip(filenames, preds))\n",
    "\n",
    "# Create submission\n",
    "submission_df = pd.DataFrame(results, columns=[\"image_id\", \"label\"])\n",
    "submission_df.to_csv(\"submission.csv\", index=False)\n",
    "print(\"Saved predictions to submission.csv\")\n"
   ]
  }
 ],
 "metadata": {
  "kaggle": {
   "accelerator": "none",
   "dataSources": [
    {
     "databundleVersionId": 12412856,
     "isSourceIdPinned": false,
     "sourceId": 102966,
     "sourceType": "competition"
    }
   ],
   "dockerImageVersionId": 31041,
   "isGpuEnabled": false,
   "isInternetEnabled": true,
   "language": "python",
   "sourceType": "notebook"
  },
  "kernelspec": {
   "display_name": "Python 3",
   "language": "python",
   "name": "python3"
  },
  "language_info": {
   "codemirror_mode": {
    "name": "ipython",
    "version": 3
   },
   "file_extension": ".py",
   "mimetype": "text/x-python",
   "name": "python",
   "nbconvert_exporter": "python",
   "pygments_lexer": "ipython3",
   "version": "3.11.11"
  }
 },
 "nbformat": 4,
 "nbformat_minor": 4
}
